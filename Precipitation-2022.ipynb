{
 "cells": [
  {
   "cell_type": "code",
   "execution_count": 35,
   "id": "f4bd8d60",
   "metadata": {},
   "outputs": [
    {
     "name": "stdout",
     "output_type": "stream",
     "text": [
      "Initialized\n"
     ]
    }
   ],
   "source": [
    "#import libs\n",
    "import numpy as np\n",
    "import matplotlib.pyplot as plt\n",
    "import pandas as pd\n",
    "import geopandas as gpd\n",
    "import json\n",
    "import ee\n",
    "%matplotlib inline\n",
    "import seaborn as sns\n",
    "from ipygee import*\n",
    "from shapely.geometry import Polygon\n",
    "\n",
    "# Trigger the authentication flow.\n",
    "# ee.Authenticate()\n",
    "    \n",
    "# Initialize the GEE\n",
    "ee.Initialize()\n",
    "\n",
    "print(\"Initialized\")"
   ]
  },
  {
   "cell_type": "code",
   "execution_count": 36,
   "id": "67b96a91",
   "metadata": {},
   "outputs": [
    {
     "name": "stdout",
     "output_type": "stream",
     "text": [
      "(1, 3)\n",
      "  GID_0   COUNTRY                                           geometry\n",
      "0   ETH  Ethiopia  POLYGON ((38.43719 3.60126, 38.42982 3.60086, ...\n"
     ]
    },
    {
     "data": {
      "text/plain": [
       "<function matplotlib.pyplot.show(close=None, block=None)>"
      ]
     },
     "execution_count": 36,
     "metadata": {},
     "output_type": "execute_result"
    },
    {
     "data": {
      "image/png": "[encoded data removed]",
      "text/plain": [
       "<Figure size 432x288 with 1 Axes>"
      ]
     },
     "metadata": {
      "needs_background": "light"
     },
     "output_type": "display_data"
    }
   ],
   "source": [
    "# Define geograpic domain\n",
    "# read the shapefile of the study area\n",
    "Ethiopia = gpd.read_file('/Users/valentinaguedesantonaccio/Library/CloudStorage/OneDrive-Nexus365/I.FoD/II.Research/VIII.Labour_Ethiopia/Precipitation/gadm41_ETH_shp/gadm41_ETH_0.shp')\n",
    "print(Ethiopia.shape)\n",
    "print(Ethiopia.head())\n",
    "Ethiopia.plot() #create the plot\n",
    "plt.show #show the plot"
   ]
  },
  {
   "cell_type": "code",
   "execution_count": 37,
   "id": "7eb56666",
   "metadata": {},
   "outputs": [],
   "source": [
    "# converting from shapefile to json (aoi = area of interest)\n",
    "aoi = Ethiopia.to_json()\n",
    "# load json file\n",
    "aoi = json.loads(aoi)\n",
    "# select features\n",
    "aoi = aoi['features']\n",
    "\n",
    "aoi = ee.FeatureCollection(aoi).geometry()"
   ]
  },
  {
   "cell_type": "code",
   "execution_count": 38,
   "id": "2aa9be1b",
   "metadata": {},
   "outputs": [],
   "source": [
    "startyear1 = 2022\n",
    "endyear1 = 2023 #(<2023)\n",
    "\n",
    "# Set date in ee date format\n",
    "startdate1 = ee.Date.fromYMD(startyear1,1,1)\n",
    "enddate1 = ee.Date.fromYMD(endyear1,7,31)\n",
    "\n",
    "# Make a list for years\n",
    "years1 = range(startyear1, endyear1);\n",
    "\n",
    "# Make a list for months\n",
    "months = range(1,8)\n"
   ]
  },
  {
   "cell_type": "code",
   "execution_count": 39,
   "id": "814fdc01",
   "metadata": {},
   "outputs": [],
   "source": [
    "# import the RS products\n",
    "CHIRPS = ee.ImageCollection('UCSB-CHG/CHIRPS/PENTAD')\\\n",
    "                            .select('precipitation')\\\n",
    "                            .filterDate(startdate1,enddate1)\\\n",
    "                            .filterBounds(aoi)"
   ]
  },
  {
   "cell_type": "code",
   "execution_count": 31,
   "id": "446a3b46",
   "metadata": {},
   "outputs": [
    {
     "name": "stdout",
     "output_type": "stream",
     "text": [
      "Size: 7\n"
     ]
    }
   ],
   "source": [
    "# Statistics function\n",
    "\n",
    "def reduce (image):\n",
    "  serie_reduce = image.reduceRegions(**{\n",
    "      'collection': aoi,\n",
    "      'reducer': ee.Reducer.mean().combine(**{\n",
    "      'reducer2': ee.Reducer.max(),\n",
    "      'sharedInputs': True}).combine(**{\n",
    "        'reducer2': ee.Reducer.min(),\n",
    "        'sharedInputs': True}),\n",
    "      'scale': 1000\n",
    "      })\n",
    "  \n",
    "  serie_reduce = serie_reduce.map(lambda f: f.set({'millis': image.get('millis')}))\\\n",
    "                             .map(lambda f: f.set({'date': image.get('date')}))\\\n",
    "                             .map(lambda f: f.set({'month': image.get('month')}))\\\n",
    "                             .map(lambda f: f.set({'year': image.get('year')}))\n",
    "  return serie_reduce.copyProperties(image, ['system:time_start'])\n",
    "\n",
    "precipitation_reduce = monthlyCHIRPS.map(reduce)\\\n",
    "                                    .flatten()\\\n",
    "                                    .sort('date', True)\\\n",
    "                                    .select(['millis', 'date', 'max', 'mean', 'min', 'month', 'year'])\n",
    "\n",
    "print(\"Size:\",precipitation_reduce.size().getInfo())"
   ]
  },
  {
   "cell_type": "code",
   "execution_count": 32,
   "id": "a8160286",
   "metadata": {},
   "outputs": [
    {
     "name": "stdout",
     "output_type": "stream",
     "text": [
      "Precipitation reduce columns: [[140.58014583587646, 15.18103264899499, 0, 1, 2022], [84.18343448638916, 10.755307830036058, 2.3093574275101503e-10, 2, 2022], [162.00280475616455, 26.50951474023567, 0.04828654043376446, 3, 2022], [295.9675874710083, 75.30464568314545, 1.4421551441773772, 4, 2022], [370.2298831939697, 62.130236690294126, 0.4537441781722009, 5, 2022], [456.48368072509766, 87.7805068906802, 0.36340271681547165, 6, 2022], [624.4698753356934, 123.16203964741197, 0.05056474171578884, 7, 2022]]\n"
     ]
    }
   ],
   "source": [
    "# creating the data list\n",
    "prec_list = precipitation_reduce.reduceColumns(ee.Reducer.toList(5), ['max', 'mean', 'min', 'month', 'year']).values().get(0)\n",
    "print(\"Precipitation reduce columns:\",prec_list.getInfo())"
   ]
  },
  {
   "cell_type": "code",
   "execution_count": 34,
   "id": "76340db9",
   "metadata": {},
   "outputs": [],
   "source": [
    "# creating the dataframe\n",
    "\n",
    "df_prec = pd.DataFrame(prec_list.getInfo(), columns=['max_prec', 'mean_prec', 'min_prec', 'month', 'year'])\n",
    "\n",
    "df_prec\n",
    "\n",
    "# export to .csv\n",
    "prec_csv1 = df_prec.to_csv('/Users/valentinaguedesantonaccio/Library/CloudStorage/OneDrive-Nexus365/I.FoD/II.Research/VIII.Labour_Ethiopia/Precipitation/CSV/precipitation2.csv')"
   ]
  },
  {
   "cell_type": "code",
   "execution_count": null,
   "id": "17c3c110",
   "metadata": {},
   "outputs": [],
   "source": []
  },
  {
   "cell_type": "code",
   "execution_count": null,
   "id": "ada7f3ce",
   "metadata": {},
   "outputs": [],
   "source": []
  },
  {
   "cell_type": "code",
   "execution_count": null,
   "id": "3692a66f",
   "metadata": {},
   "outputs": [],
   "source": []
  }
 ],
 "metadata": {
  "kernelspec": {
   "display_name": "Python 3 (ipykernel)",
   "language": "python",
   "name": "python3"
  },
  "language_info": {
   "codemirror_mode": {
    "name": "ipython",
    "version": 3
   },
   "file_extension": ".py",
   "mimetype": "text/x-python",
   "name": "python",
   "nbconvert_exporter": "python",
   "pygments_lexer": "ipython3",
   "version": "3.9.12"
  }
 },
 "nbformat": 4,
 "nbformat_minor": 5
}
