{
 "cells": [
  {
   "cell_type": "markdown",
   "id": "12061046",
   "metadata": {},
   "source": [
    "# SPI (Standard Precipitation Index). \n",
    "\n",
    "This code calculates the Standard Precipitation Index using the precipitation data from CHIRPS obtained from the codes \"Precipitation_2012_2021\" and \"Precipitation_2022\". The CSV's obtained from both \"Precipitation\" codes are appended and produce the output file \"precipitation_2012_2022.csv\" used in this code as input and uploaded to this repository. "
   ]
  },
  {
   "cell_type": "markdown",
   "id": "363abad0",
   "metadata": {},
   "source": [
    "1. Import libraries necessary: "
   ]
  },
  {
   "cell_type": "code",
   "execution_count": null,
   "id": "776734a8",
   "metadata": {},
   "outputs": [],
   "source": [
    "import pandas as pd\n",
    "from datetime import datetime\n",
    "import matplotlib.pyplot as plt\n",
    "from standard_precip.spi import SPI\n",
    "from standard_precip.utils import plot_index"
   ]
  },
  {
   "cell_type": "markdown",
   "id": "079a5886",
   "metadata": {},
   "source": [
    "2. Upload the data and drop the column \"Unamed:0\" that is created by Python. "
   ]
  },
  {
   "cell_type": "code",
   "execution_count": 37,
   "id": "db1b5654",
   "metadata": {},
   "outputs": [
    {
     "data": {
      "text/html": [
       "<div>\n",
       "<style scoped>\n",
       "    .dataframe tbody tr th:only-of-type {\n",
       "        vertical-align: middle;\n",
       "    }\n",
       "\n",
       "    .dataframe tbody tr th {\n",
       "        vertical-align: top;\n",
       "    }\n",
       "\n",
       "    .dataframe thead th {\n",
       "        text-align: right;\n",
       "    }\n",
       "</style>\n",
       "<table border=\"1\" class=\"dataframe\">\n",
       "  <thead>\n",
       "    <tr style=\"text-align: right;\">\n",
       "      <th></th>\n",
       "      <th>max_prec</th>\n",
       "      <th>mean_prec</th>\n",
       "      <th>min_prec</th>\n",
       "      <th>month</th>\n",
       "      <th>year</th>\n",
       "    </tr>\n",
       "  </thead>\n",
       "  <tbody>\n",
       "    <tr>\n",
       "      <th>0</th>\n",
       "      <td>51.103067</td>\n",
       "      <td>5.571654</td>\n",
       "      <td>0.000000e+00</td>\n",
       "      <td>1</td>\n",
       "      <td>2012</td>\n",
       "    </tr>\n",
       "    <tr>\n",
       "      <th>1</th>\n",
       "      <td>34.281585</td>\n",
       "      <td>6.093373</td>\n",
       "      <td>2.065335e-10</td>\n",
       "      <td>2</td>\n",
       "      <td>2012</td>\n",
       "    </tr>\n",
       "    <tr>\n",
       "      <th>2</th>\n",
       "      <td>133.377673</td>\n",
       "      <td>23.070663</td>\n",
       "      <td>3.934187e-02</td>\n",
       "      <td>3</td>\n",
       "      <td>2012</td>\n",
       "    </tr>\n",
       "    <tr>\n",
       "      <th>3</th>\n",
       "      <td>441.159286</td>\n",
       "      <td>95.820650</td>\n",
       "      <td>7.472808e-01</td>\n",
       "      <td>4</td>\n",
       "      <td>2012</td>\n",
       "    </tr>\n",
       "    <tr>\n",
       "      <th>4</th>\n",
       "      <td>426.343287</td>\n",
       "      <td>92.780663</td>\n",
       "      <td>9.001209e-01</td>\n",
       "      <td>5</td>\n",
       "      <td>2012</td>\n",
       "    </tr>\n",
       "    <tr>\n",
       "      <th>...</th>\n",
       "      <td>...</td>\n",
       "      <td>...</td>\n",
       "      <td>...</td>\n",
       "      <td>...</td>\n",
       "      <td>...</td>\n",
       "    </tr>\n",
       "    <tr>\n",
       "      <th>122</th>\n",
       "      <td>162.002805</td>\n",
       "      <td>26.509515</td>\n",
       "      <td>4.828654e-02</td>\n",
       "      <td>3</td>\n",
       "      <td>2022</td>\n",
       "    </tr>\n",
       "    <tr>\n",
       "      <th>123</th>\n",
       "      <td>295.967587</td>\n",
       "      <td>75.304646</td>\n",
       "      <td>1.442155e+00</td>\n",
       "      <td>4</td>\n",
       "      <td>2022</td>\n",
       "    </tr>\n",
       "    <tr>\n",
       "      <th>124</th>\n",
       "      <td>370.229883</td>\n",
       "      <td>62.130237</td>\n",
       "      <td>4.537442e-01</td>\n",
       "      <td>5</td>\n",
       "      <td>2022</td>\n",
       "    </tr>\n",
       "    <tr>\n",
       "      <th>125</th>\n",
       "      <td>456.483681</td>\n",
       "      <td>87.780507</td>\n",
       "      <td>3.634027e-01</td>\n",
       "      <td>6</td>\n",
       "      <td>2022</td>\n",
       "    </tr>\n",
       "    <tr>\n",
       "      <th>126</th>\n",
       "      <td>624.469875</td>\n",
       "      <td>123.162040</td>\n",
       "      <td>5.056474e-02</td>\n",
       "      <td>7</td>\n",
       "      <td>2022</td>\n",
       "    </tr>\n",
       "  </tbody>\n",
       "</table>\n",
       "<p>127 rows × 5 columns</p>\n",
       "</div>"
      ],
      "text/plain": [
       "       max_prec   mean_prec      min_prec  month  year\n",
       "0     51.103067    5.571654  0.000000e+00      1  2012\n",
       "1     34.281585    6.093373  2.065335e-10      2  2012\n",
       "2    133.377673   23.070663  3.934187e-02      3  2012\n",
       "3    441.159286   95.820650  7.472808e-01      4  2012\n",
       "4    426.343287   92.780663  9.001209e-01      5  2012\n",
       "..          ...         ...           ...    ...   ...\n",
       "122  162.002805   26.509515  4.828654e-02      3  2022\n",
       "123  295.967587   75.304646  1.442155e+00      4  2022\n",
       "124  370.229883   62.130237  4.537442e-01      5  2022\n",
       "125  456.483681   87.780507  3.634027e-01      6  2022\n",
       "126  624.469875  123.162040  5.056474e-02      7  2022\n",
       "\n",
       "[127 rows x 5 columns]"
      ]
     },
     "execution_count": 37,
     "metadata": {},
     "output_type": "execute_result"
    }
   ],
   "source": [
    "df_rainfall = pd.read_csv('/Users/valentinaguedesantonaccio/Library/CloudStorage/OneDrive-Nexus365/I.FoD/II.Research/VIII.Labour_Ethiopia/Precipitation/CSV/precipitation_2012_2022.csv')\n",
    "df_rainfall.head()\n",
    "\n",
    "df_rainfall = df_rainfall.drop('Unnamed: 0', axis=1)\n",
    "df_rainfall"
   ]
  },
  {
   "cell_type": "markdown",
   "id": "73c28af2",
   "metadata": {},
   "source": [
    "3. Create a column for \"Date\" using teh columns for \"Month\" and \"Year\" which are separated into two columns in the original data. "
   ]
  },
  {
   "cell_type": "code",
   "execution_count": null,
   "id": "3368ae9a",
   "metadata": {},
   "outputs": [],
   "source": [
    "#Declare a list for day\n",
    "def day(n):\n",
    "    day = [1] * n\n",
    "    return day\n",
    "day = day(127)\n",
    "\n",
    "df_rainfall[\"day\"] = day\n",
    "\n",
    "\n",
    "df_rainfall['dateInt']=df_rainfall['year'].astype(str) + df_rainfall['month'].astype(str).str.zfill(2)+ df_rainfall['day'].astype(str).str.zfill(2)\n",
    "df_rainfall['Date'] = pd.to_datetime(df_rainfall['dateInt'], format='%Y%m%d')\n",
    "\n",
    "df_rainfall"
   ]
  },
  {
   "cell_type": "code",
   "execution_count": 41,
   "id": "d45ac41c",
   "metadata": {},
   "outputs": [
    {
     "data": {
      "text/html": [
       "<div>\n",
       "<style scoped>\n",
       "    .dataframe tbody tr th:only-of-type {\n",
       "        vertical-align: middle;\n",
       "    }\n",
       "\n",
       "    .dataframe tbody tr th {\n",
       "        vertical-align: top;\n",
       "    }\n",
       "\n",
       "    .dataframe thead th {\n",
       "        text-align: right;\n",
       "    }\n",
       "</style>\n",
       "<table border=\"1\" class=\"dataframe\">\n",
       "  <thead>\n",
       "    <tr style=\"text-align: right;\">\n",
       "      <th></th>\n",
       "      <th>max_prec</th>\n",
       "      <th>mean_prec</th>\n",
       "      <th>min_prec</th>\n",
       "      <th>month</th>\n",
       "      <th>year</th>\n",
       "      <th>day</th>\n",
       "      <th>dateInt</th>\n",
       "      <th>Date</th>\n",
       "    </tr>\n",
       "  </thead>\n",
       "  <tbody>\n",
       "    <tr>\n",
       "      <th>0</th>\n",
       "      <td>51.103067</td>\n",
       "      <td>5.571654</td>\n",
       "      <td>0.000000e+00</td>\n",
       "      <td>1</td>\n",
       "      <td>2012</td>\n",
       "      <td>1</td>\n",
       "      <td>20120101</td>\n",
       "      <td>2012-01-01</td>\n",
       "    </tr>\n",
       "    <tr>\n",
       "      <th>1</th>\n",
       "      <td>34.281585</td>\n",
       "      <td>6.093373</td>\n",
       "      <td>2.065335e-10</td>\n",
       "      <td>2</td>\n",
       "      <td>2012</td>\n",
       "      <td>1</td>\n",
       "      <td>20120201</td>\n",
       "      <td>2012-02-01</td>\n",
       "    </tr>\n",
       "    <tr>\n",
       "      <th>2</th>\n",
       "      <td>133.377673</td>\n",
       "      <td>23.070663</td>\n",
       "      <td>3.934187e-02</td>\n",
       "      <td>3</td>\n",
       "      <td>2012</td>\n",
       "      <td>1</td>\n",
       "      <td>20120301</td>\n",
       "      <td>2012-03-01</td>\n",
       "    </tr>\n",
       "    <tr>\n",
       "      <th>3</th>\n",
       "      <td>441.159286</td>\n",
       "      <td>95.820650</td>\n",
       "      <td>7.472808e-01</td>\n",
       "      <td>4</td>\n",
       "      <td>2012</td>\n",
       "      <td>1</td>\n",
       "      <td>20120401</td>\n",
       "      <td>2012-04-01</td>\n",
       "    </tr>\n",
       "    <tr>\n",
       "      <th>4</th>\n",
       "      <td>426.343287</td>\n",
       "      <td>92.780663</td>\n",
       "      <td>9.001209e-01</td>\n",
       "      <td>5</td>\n",
       "      <td>2012</td>\n",
       "      <td>1</td>\n",
       "      <td>20120501</td>\n",
       "      <td>2012-05-01</td>\n",
       "    </tr>\n",
       "  </tbody>\n",
       "</table>\n",
       "</div>"
      ],
      "text/plain": [
       "     max_prec  mean_prec      min_prec  month  year  day   dateInt       Date\n",
       "0   51.103067   5.571654  0.000000e+00      1  2012    1  20120101 2012-01-01\n",
       "1   34.281585   6.093373  2.065335e-10      2  2012    1  20120201 2012-02-01\n",
       "2  133.377673  23.070663  3.934187e-02      3  2012    1  20120301 2012-03-01\n",
       "3  441.159286  95.820650  7.472808e-01      4  2012    1  20120401 2012-04-01\n",
       "4  426.343287  92.780663  9.001209e-01      5  2012    1  20120501 2012-05-01"
      ]
     },
     "execution_count": 41,
     "metadata": {},
     "output_type": "execute_result"
    }
   ],
   "source": [
    "df_rainfall.head()"
   ]
  },
  {
   "cell_type": "code",
   "execution_count": 42,
   "id": "f7e0250d",
   "metadata": {},
   "outputs": [],
   "source": [
    "#Create SPI Instance\n",
    "spi_rain = SPI()"
   ]
  },
  {
   "cell_type": "code",
   "execution_count": null,
   "id": "4f0cdac6",
   "metadata": {},
   "outputs": [],
   "source": [
    "# help(SPI())"
   ]
  },
  {
   "cell_type": "markdown",
   "id": "ded61ddf",
   "metadata": {},
   "source": [
    "4. Calculate Monthly SPI (1-Month) using Gamma Distribution and L-moments"
   ]
  },
  {
   "cell_type": "code",
   "execution_count": null,
   "id": "1be0daac",
   "metadata": {},
   "outputs": [],
   "source": [
    "\n",
    "\n",
    "spi_monthly = spi_rain.calculate(df_rainfall, 'Date', 'mean_prec', freq=\"M\", scale=1, \n",
    "                                 fit_type=\"lmom\", dist_type=\"gam\")\n",
    "spi_monthly.head()\n",
    "\n"
   ]
  },
  {
   "cell_type": "code",
   "execution_count": null,
   "id": "56039c3f",
   "metadata": {},
   "outputs": [],
   "source": [
    "fig = plot_index(spi_monthly, 'Date', 'mean_prec_calculated_index')\n",
    "fig.savefig('SPI.png')"
   ]
  },
  {
   "cell_type": "markdown",
   "id": "501814f7",
   "metadata": {},
   "source": [
    "Based on this GitHub repository: [Code](https://github.com/e-baumer/standard_precip/blob/master/examples/example_use.ipynb)"
   ]
  },
  {
   "cell_type": "code",
   "execution_count": null,
   "id": "25529ddc",
   "metadata": {},
   "outputs": [],
   "source": []
  }
 ],
 "metadata": {
  "kernelspec": {
   "display_name": "Python 3 (ipykernel)",
   "language": "python",
   "name": "python3"
  },
  "language_info": {
   "codemirror_mode": {
    "name": "ipython",
    "version": 3
   },
   "file_extension": ".py",
   "mimetype": "text/x-python",
   "name": "python",
   "nbconvert_exporter": "python",
   "pygments_lexer": "ipython3",
   "version": "3.9.12"
  }
 },
 "nbformat": 4,
 "nbformat_minor": 5
}
